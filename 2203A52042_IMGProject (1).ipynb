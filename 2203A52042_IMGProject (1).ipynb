{
  "cells": [
    {
      "cell_type": "code",
      "execution_count": null,
      "metadata": {
        "id": "EkXOejSwPesB"
      },
      "outputs": [],
      "source": [
        "from IPython import get_ipython\n",
        "from IPython.display import display"
      ]
    },
    {
      "cell_type": "code",
      "execution_count": null,
      "metadata": {
        "id": "Saz4GMG43z31"
      },
      "outputs": [],
      "source": [
        "import os\n",
        "import numpy as np\n",
        "import matplotlib.pyplot as plt\n",
        "import seaborn as sns\n",
        "import zipfile\n",
        "import tensorflow as tf\n",
        "from tensorflow.keras.models import Sequential\n",
        "from tensorflow.keras.layers import Conv2D, MaxPooling2D, Flatten, Dense, Dropout\n",
        "from tensorflow.keras.preprocessing.image import ImageDataGenerator\n",
        "from tensorflow.keras.utils import to_categorical\n",
        "from sklearn.metrics import classification_report, confusion_matrix"
      ]
    },
    {
      "cell_type": "code",
      "execution_count": null,
      "metadata": {
        "id": "eJxHPUvxOkgp"
      },
      "outputs": [],
      "source": [
        "#zip_path = \"/content/Satellite Image Classification.zip\"\n",
        "extract_path = \"/content/drive/MyDrive/Satellite Image Classification\""
      ]
    },
    {
      "cell_type": "code",
      "execution_count": null,
      "metadata": {
        "id": "Fbpt4NKhOlzM"
      },
      "outputs": [],
      "source": [
        "data_path = extract_path\n",
        "train_dir = os.path.join(data_path, \"data\")\n",
        "val_dir = os.path.join(data_path, \"data\")\n"
      ]
    },
    {
      "cell_type": "code",
      "execution_count": null,
      "metadata": {
        "colab": {
          "base_uri": "https://localhost:8080/"
        },
        "id": "tJ-lSXfvmjPi",
        "outputId": "56c69ccb-8240-4ee0-92fd-cf9241cc08e2"
      },
      "outputs": [
        {
          "output_type": "stream",
          "name": "stdout",
          "text": [
            "['water', 'green_area', 'desert', 'cloudy']\n"
          ]
        }
      ],
      "source": [
        "print(os.listdir(val_dir))"
      ]
    },
    {
      "cell_type": "code",
      "execution_count": null,
      "metadata": {
        "colab": {
          "base_uri": "https://localhost:8080/"
        },
        "id": "N5jHn3EIvEPk",
        "outputId": "0304304e-b80b-44b0-9517-66c5f312feb6"
      },
      "outputs": [
        {
          "output_type": "stream",
          "name": "stdout",
          "text": [
            "Folders in train directory: ['water', 'green_area', 'desert', 'cloudy']\n"
          ]
        }
      ],
      "source": [
        "print(\"Folders in train directory:\", os.listdir(train_dir))"
      ]
    },
    {
      "cell_type": "code",
      "execution_count": null,
      "metadata": {
        "id": "s_K7eiXIOoyo"
      },
      "outputs": [],
      "source": [
        "sample_class = os.listdir(train_dir)[0]\n",
        "sample_image = os.listdir(os.path.join(train_dir, sample_class))[0]\n",
        "image_path = os.path.join(train_dir, sample_class, sample_image)\n",
        "sample_img = plt.imread(image_path)\n"
      ]
    },
    {
      "cell_type": "markdown",
      "metadata": {
        "id": "aFURfPtYUPX3"
      },
      "source": [
        "# RGB to Gray Scale"
      ]
    },
    {
      "cell_type": "code",
      "execution_count": null,
      "metadata": {
        "colab": {
          "base_uri": "https://localhost:8080/"
        },
        "id": "yK_XtzC_PE97",
        "outputId": "470ad373-1c8f-4213-b15d-9754b7e7aa9b"
      },
      "outputs": [
        {
          "output_type": "stream",
          "name": "stderr",
          "text": [
            "100%|██████████| 1510/1510 [00:47<00:00, 31.52it/s] \n",
            "100%|██████████| 1131/1131 [00:37<00:00, 29.83it/s] \n",
            "100%|██████████| 1500/1500 [00:51<00:00, 29.07it/s] \n",
            "100%|██████████| 1500/1500 [00:54<00:00, 27.60it/s] "
          ]
        },
        {
          "output_type": "stream",
          "name": "stdout",
          "text": [
            "Conversion to grayscale completed!\n"
          ]
        },
        {
          "output_type": "stream",
          "name": "stderr",
          "text": [
            "\n"
          ]
        }
      ],
      "source": [
        "import cv2\n",
        "import os\n",
        "import numpy as np\n",
        "from tqdm import tqdm\n",
        "\n",
        "# Define paths\n",
        "input_folders = [\"/content/drive/MyDrive/Satellite Image Classification/data/cloudy\",\n",
        "    \"/content/drive/MyDrive/Satellite Image Classification/data/desert\",\n",
        "    \"/content/drive/MyDrive/Satellite Image Classification/data/green_area\",\n",
        "    \"/content/drive/MyDrive/Satellite Image Classification/data/water\"\n",
        "]\n",
        "output_folders = [\"/content/Satellite Image Classification/preprocessed_cloudy\",\n",
        "                 \"/content/Satellite Image Classification/preprocessed_desert\",\n",
        "                 \"/content/Satellite Image Classification/preprocessed_green_area\",\n",
        "                 \"/content/Satellite Image Classification/preprocessed_water\"\n",
        "]\n",
        "\n",
        "# Create output directories if they don't exist\n",
        "for folder in output_folders:\n",
        "    os.makedirs(folder, exist_ok=True)\n",
        "\n",
        "# Convert images to grayscale\n",
        "for input_folder, output_folder in zip(input_folders, output_folders):  # Iterate through corresponding input/output folders\n",
        "    for img_name in tqdm(os.listdir(input_folder)):\n",
        "        img_path = os.path.join(input_folder, img_name)\n",
        "        gray_path = os.path.join(output_folder, img_name)\n",
        "\n",
        "        img = cv2.imread(img_path)  # Read as RGB\n",
        "        gray_img = cv2.cvtColor(img, cv2.COLOR_BGR2GRAY)  # Convert to grayscale\n",
        "\n",
        "        cv2.imwrite(gray_path, gray_img)  # Save grayscale image\n",
        "\n",
        "print(\"Conversion to grayscale completed!\")"
      ]
    },
    {
      "cell_type": "code",
      "execution_count": null,
      "metadata": {
        "colab": {
          "base_uri": "https://localhost:8080/"
        },
        "id": "KT3T4atTvq5E",
        "outputId": "45420c36-7dd2-4322-e1de-34a1dfa5b70e"
      },
      "outputs": [
        {
          "output_type": "stream",
          "name": "stdout",
          "text": [
            "Found 3949 images belonging to 4 classes.\n",
            "Found 1692 images belonging to 4 classes.\n"
          ]
        }
      ],
      "source": [
        "img_size = (64, 64)\n",
        "validation_split = 0.3  # Increased from 0.25 to 0.3\n",
        "batch_size = 32\n",
        "\n",
        "# Data Augmentation and Preprocessing\n",
        "data_gen = ImageDataGenerator(\n",
        "    rescale=1./255,\n",
        "    rotation_range=40,\n",
        "    width_shift_range=0.3,\n",
        "    height_shift_range=0.3,\n",
        "    shear_range=0.3,\n",
        "    zoom_range=0.3,\n",
        "    horizontal_flip=True,\n",
        "    validation_split=validation_split\n",
        ")\n",
        "\n",
        "train_generator = data_gen.flow_from_directory(\n",
        "    train_dir, target_size=img_size,\n",
        "    batch_size=batch_size, class_mode='categorical', color_mode='rgb',\n",
        "    subset='training'\n",
        ")\n",
        "\n",
        "validation_generator = data_gen.flow_from_directory(\n",
        "    val_dir, target_size=img_size,\n",
        "    batch_size=batch_size, class_mode='categorical', color_mode='rgb',\n",
        "    subset='validation'\n",
        ")"
      ]
    },
    {
      "cell_type": "code",
      "execution_count": null,
      "metadata": {
        "id": "viJZtMksvNT5"
      },
      "outputs": [],
      "source": [
        "from collections import Counter # Import Counter from collections\n",
        "\n",
        "class_counts = Counter(train_generator.classes)\n",
        "total_samples = sum(class_counts.values())\n",
        "class_weight = {cls: total_samples / (len(class_counts) * count) for cls, count in class_counts.items()}"
      ]
    },
    {
      "cell_type": "markdown",
      "metadata": {
        "id": "-83k37AUUmLJ"
      },
      "source": [
        "# CNN"
      ]
    },
    {
      "cell_type": "code",
      "execution_count": null,
      "metadata": {
        "colab": {
          "base_uri": "https://localhost:8080/"
        },
        "id": "aBcGXMOayY5u",
        "outputId": "9df855f4-835e-4846-c8e9-b90b9505ac3f"
      },
      "outputs": [
        {
          "output_type": "stream",
          "name": "stderr",
          "text": [
            "/usr/local/lib/python3.11/dist-packages/keras/src/layers/convolutional/base_conv.py:107: UserWarning: Do not pass an `input_shape`/`input_dim` argument to a layer. When using Sequential models, prefer using an `Input(shape)` object as the first layer in the model instead.\n",
            "  super().__init__(activity_regularizer=activity_regularizer, **kwargs)\n"
          ]
        }
      ],
      "source": [
        "from tensorflow.keras.regularizers import l2  # Import l2 regularizer\n",
        "from tensorflow.keras.layers import BatchNormalization # Import BatchNormalization\n",
        "model = Sequential([\n",
        "    Conv2D(32, (3,3), activation='relu', kernel_regularizer=l2(0.01), input_shape=(img_size[0], img_size[1], 3)),\n",
        "    BatchNormalization(),\n",
        "    MaxPooling2D(2,2),\n",
        "\n",
        "    Conv2D(64, (3,3), activation='relu', kernel_regularizer=l2(0.01)),\n",
        "    BatchNormalization(),\n",
        "    MaxPooling2D(2,2),\n",
        "\n",
        "    Conv2D(128, (3,3), activation='relu', kernel_regularizer=l2(0.01)),\n",
        "    BatchNormalization(),\n",
        "    MaxPooling2D(2,2),\n",
        "\n",
        "    Flatten(),\n",
        "    Dense(256, activation='relu', kernel_regularizer=l2(0.01)),\n",
        "    Dropout(0.6),  # Increased dropout to prevent overfitting\n",
        "    Dense(train_generator.num_classes, activation='softmax')\n",
        "])"
      ]
    },
    {
      "cell_type": "code",
      "execution_count": null,
      "metadata": {
        "id": "-5mmvihuzA8M"
      },
      "outputs": [],
      "source": [
        "optimizer = tf.keras.optimizers.Adam(learning_rate=0.0005)\n",
        "model.compile(optimizer='adam', loss='categorical_crossentropy', metrics=['accuracy'])"
      ]
    },
    {
      "cell_type": "code",
      "execution_count": null,
      "metadata": {
        "id": "MfakCZYfvyPo"
      },
      "outputs": [],
      "source": [
        "from tensorflow.keras.callbacks import EarlyStopping, ReduceLROnPlateau  # Import EarlyStopping and ReduceLROnPlateau\n",
        "\n",
        "early_stopping = EarlyStopping(monitor='val_loss', patience=10, restore_best_weights=True)\n",
        "reduce_lr = ReduceLROnPlateau(monitor='val_loss', factor=0.2, patience=3, min_lr=1e-6)"
      ]
    },
    {
      "cell_type": "code",
      "execution_count": null,
      "metadata": {
        "colab": {
          "base_uri": "https://localhost:8080/"
        },
        "id": "2vsh736IzJdu",
        "outputId": "368d57dc-ccff-400c-9d0d-6bbccdbee632"
      },
      "outputs": [
        {
          "output_type": "stream",
          "name": "stderr",
          "text": [
            "/usr/local/lib/python3.11/dist-packages/keras/src/trainers/data_adapters/py_dataset_adapter.py:121: UserWarning: Your `PyDataset` class should call `super().__init__(**kwargs)` in its constructor. `**kwargs` can include `workers`, `use_multiprocessing`, `max_queue_size`. Do not pass these arguments to `fit()`, as they will be ignored.\n",
            "  self._warn_if_super_not_called()\n"
          ]
        },
        {
          "output_type": "stream",
          "name": "stdout",
          "text": [
            "Epoch 1/30\n",
            "\u001b[1m124/124\u001b[0m \u001b[32m━━━━━━━━━━━━━━━━━━━━\u001b[0m\u001b[37m\u001b[0m \u001b[1m43s\u001b[0m 277ms/step - accuracy: 0.7153 - loss: 7.7362 - val_accuracy: 0.2914 - val_loss: 9.0905 - learning_rate: 0.0010\n",
            "Epoch 2/30\n",
            "\u001b[1m124/124\u001b[0m \u001b[32m━━━━━━━━━━━━━━━━━━━━\u001b[0m\u001b[37m\u001b[0m \u001b[1m31s\u001b[0m 251ms/step - accuracy: 0.8083 - loss: 4.9667 - val_accuracy: 0.4870 - val_loss: 6.8840 - learning_rate: 0.0010\n",
            "Epoch 3/30\n",
            "\u001b[1m124/124\u001b[0m \u001b[32m━━━━━━━━━━━━━━━━━━━━\u001b[0m\u001b[37m\u001b[0m \u001b[1m28s\u001b[0m 224ms/step - accuracy: 0.7979 - loss: 3.6370 - val_accuracy: 0.5662 - val_loss: 3.1738 - learning_rate: 0.0010\n",
            "Epoch 4/30\n",
            "\u001b[1m124/124\u001b[0m \u001b[32m━━━━━━━━━━━━━━━━━━━━\u001b[0m\u001b[37m\u001b[0m \u001b[1m41s\u001b[0m 225ms/step - accuracy: 0.8609 - loss: 2.2197 - val_accuracy: 0.3404 - val_loss: 4.1437 - learning_rate: 0.0010\n",
            "Epoch 5/30\n",
            "\u001b[1m124/124\u001b[0m \u001b[32m━━━━━━━━━━━━━━━━━━━━\u001b[0m\u001b[37m\u001b[0m \u001b[1m28s\u001b[0m 225ms/step - accuracy: 0.8591 - loss: 1.7779 - val_accuracy: 0.6111 - val_loss: 2.6328 - learning_rate: 0.0010\n",
            "Epoch 6/30\n",
            "\u001b[1m124/124\u001b[0m \u001b[32m━━━━━━━━━━━━━━━━━━━━\u001b[0m\u001b[37m\u001b[0m \u001b[1m28s\u001b[0m 224ms/step - accuracy: 0.9006 - loss: 1.2073 - val_accuracy: 0.8528 - val_loss: 1.2377 - learning_rate: 0.0010\n",
            "Epoch 7/30\n",
            "\u001b[1m124/124\u001b[0m \u001b[32m━━━━━━━━━━━━━━━━━━━━\u001b[0m\u001b[37m\u001b[0m \u001b[1m28s\u001b[0m 224ms/step - accuracy: 0.8775 - loss: 1.0710 - val_accuracy: 0.8522 - val_loss: 1.1206 - learning_rate: 0.0010\n",
            "Epoch 8/30\n",
            "\u001b[1m124/124\u001b[0m \u001b[32m━━━━━━━━━━━━━━━━━━━━\u001b[0m\u001b[37m\u001b[0m \u001b[1m30s\u001b[0m 239ms/step - accuracy: 0.8583 - loss: 1.1737 - val_accuracy: 0.8635 - val_loss: 0.9973 - learning_rate: 0.0010\n",
            "Epoch 9/30\n",
            "\u001b[1m124/124\u001b[0m \u001b[32m━━━━━━━━━━━━━━━━━━━━\u001b[0m\u001b[37m\u001b[0m \u001b[1m38s\u001b[0m 218ms/step - accuracy: 0.8656 - loss: 1.0387 - val_accuracy: 0.7973 - val_loss: 1.0370 - learning_rate: 0.0010\n",
            "Epoch 10/30\n",
            "\u001b[1m124/124\u001b[0m \u001b[32m━━━━━━━━━━━━━━━━━━━━\u001b[0m\u001b[37m\u001b[0m \u001b[1m43s\u001b[0m 236ms/step - accuracy: 0.8755 - loss: 0.9482 - val_accuracy: 0.7210 - val_loss: 1.3602 - learning_rate: 0.0010\n",
            "Epoch 11/30\n",
            "\u001b[1m124/124\u001b[0m \u001b[32m━━━━━━━━━━━━━━━━━━━━\u001b[0m\u001b[37m\u001b[0m \u001b[1m27s\u001b[0m 219ms/step - accuracy: 0.8761 - loss: 0.8621 - val_accuracy: 0.6690 - val_loss: 1.3649 - learning_rate: 0.0010\n",
            "Epoch 12/30\n",
            "\u001b[1m124/124\u001b[0m \u001b[32m━━━━━━━━━━━━━━━━━━━━\u001b[0m\u001b[37m\u001b[0m \u001b[1m43s\u001b[0m 237ms/step - accuracy: 0.9203 - loss: 0.6430 - val_accuracy: 0.9037 - val_loss: 0.6256 - learning_rate: 2.0000e-04\n",
            "Epoch 13/30\n",
            "\u001b[1m124/124\u001b[0m \u001b[32m━━━━━━━━━━━━━━━━━━━━\u001b[0m\u001b[37m\u001b[0m \u001b[1m27s\u001b[0m 219ms/step - accuracy: 0.9294 - loss: 0.5519 - val_accuracy: 0.9427 - val_loss: 0.5077 - learning_rate: 2.0000e-04\n",
            "Epoch 14/30\n",
            "\u001b[1m124/124\u001b[0m \u001b[32m━━━━━━━━━━━━━━━━━━━━\u001b[0m\u001b[37m\u001b[0m \u001b[1m41s\u001b[0m 219ms/step - accuracy: 0.9244 - loss: 0.5241 - val_accuracy: 0.8836 - val_loss: 0.5675 - learning_rate: 2.0000e-04\n",
            "Epoch 15/30\n",
            "\u001b[1m124/124\u001b[0m \u001b[32m━━━━━━━━━━━━━━━━━━━━\u001b[0m\u001b[37m\u001b[0m \u001b[1m27s\u001b[0m 220ms/step - accuracy: 0.9279 - loss: 0.4887 - val_accuracy: 0.9563 - val_loss: 0.4265 - learning_rate: 2.0000e-04\n",
            "Epoch 16/30\n",
            "\u001b[1m124/124\u001b[0m \u001b[32m━━━━━━━━━━━━━━━━━━━━\u001b[0m\u001b[37m\u001b[0m \u001b[1m44s\u001b[0m 244ms/step - accuracy: 0.9323 - loss: 0.4659 - val_accuracy: 0.9480 - val_loss: 0.3898 - learning_rate: 2.0000e-04\n",
            "Epoch 17/30\n",
            "\u001b[1m124/124\u001b[0m \u001b[32m━━━━━━━━━━━━━━━━━━━━\u001b[0m\u001b[37m\u001b[0m \u001b[1m28s\u001b[0m 222ms/step - accuracy: 0.9356 - loss: 0.4429 - val_accuracy: 0.9309 - val_loss: 0.4017 - learning_rate: 2.0000e-04\n",
            "Epoch 18/30\n",
            "\u001b[1m124/124\u001b[0m \u001b[32m━━━━━━━━━━━━━━━━━━━━\u001b[0m\u001b[37m\u001b[0m \u001b[1m27s\u001b[0m 222ms/step - accuracy: 0.9430 - loss: 0.4193 - val_accuracy: 0.9273 - val_loss: 0.4318 - learning_rate: 2.0000e-04\n",
            "Epoch 19/30\n",
            "\u001b[1m124/124\u001b[0m \u001b[32m━━━━━━━━━━━━━━━━━━━━\u001b[0m\u001b[37m\u001b[0m \u001b[1m28s\u001b[0m 224ms/step - accuracy: 0.9476 - loss: 0.3807 - val_accuracy: 0.8664 - val_loss: 0.5352 - learning_rate: 2.0000e-04\n",
            "Epoch 20/30\n",
            "\u001b[1m124/124\u001b[0m \u001b[32m━━━━━━━━━━━━━━━━━━━━\u001b[0m\u001b[37m\u001b[0m \u001b[1m27s\u001b[0m 222ms/step - accuracy: 0.9427 - loss: 0.3871 - val_accuracy: 0.9710 - val_loss: 0.3133 - learning_rate: 4.0000e-05\n",
            "Epoch 21/30\n",
            "\u001b[1m124/124\u001b[0m \u001b[32m━━━━━━━━━━━━━━━━━━━━\u001b[0m\u001b[37m\u001b[0m \u001b[1m28s\u001b[0m 226ms/step - accuracy: 0.9578 - loss: 0.3591 - val_accuracy: 0.9699 - val_loss: 0.3083 - learning_rate: 4.0000e-05\n",
            "Epoch 22/30\n",
            "\u001b[1m124/124\u001b[0m \u001b[32m━━━━━━━━━━━━━━━━━━━━\u001b[0m\u001b[37m\u001b[0m \u001b[1m28s\u001b[0m 223ms/step - accuracy: 0.9617 - loss: 0.3361 - val_accuracy: 0.9675 - val_loss: 0.3059 - learning_rate: 4.0000e-05\n",
            "Epoch 23/30\n",
            "\u001b[1m124/124\u001b[0m \u001b[32m━━━━━━━━━━━━━━━━━━━━\u001b[0m\u001b[37m\u001b[0m \u001b[1m28s\u001b[0m 223ms/step - accuracy: 0.9641 - loss: 0.3288 - val_accuracy: 0.9787 - val_loss: 0.2879 - learning_rate: 4.0000e-05\n",
            "Epoch 24/30\n",
            "\u001b[1m124/124\u001b[0m \u001b[32m━━━━━━━━━━━━━━━━━━━━\u001b[0m\u001b[37m\u001b[0m \u001b[1m27s\u001b[0m 221ms/step - accuracy: 0.9651 - loss: 0.3223 - val_accuracy: 0.9663 - val_loss: 0.3028 - learning_rate: 4.0000e-05\n",
            "Epoch 25/30\n",
            "\u001b[1m124/124\u001b[0m \u001b[32m━━━━━━━━━━━━━━━━━━━━\u001b[0m\u001b[37m\u001b[0m \u001b[1m27s\u001b[0m 219ms/step - accuracy: 0.9648 - loss: 0.3259 - val_accuracy: 0.9758 - val_loss: 0.2750 - learning_rate: 4.0000e-05\n",
            "Epoch 26/30\n",
            "\u001b[1m124/124\u001b[0m \u001b[32m━━━━━━━━━━━━━━━━━━━━\u001b[0m\u001b[37m\u001b[0m \u001b[1m27s\u001b[0m 219ms/step - accuracy: 0.9612 - loss: 0.3188 - val_accuracy: 0.9693 - val_loss: 0.2818 - learning_rate: 4.0000e-05\n",
            "Epoch 27/30\n",
            "\u001b[1m124/124\u001b[0m \u001b[32m━━━━━━━━━━━━━━━━━━━━\u001b[0m\u001b[37m\u001b[0m \u001b[1m28s\u001b[0m 223ms/step - accuracy: 0.9653 - loss: 0.3061 - val_accuracy: 0.9663 - val_loss: 0.2922 - learning_rate: 4.0000e-05\n",
            "Epoch 28/30\n",
            "\u001b[1m124/124\u001b[0m \u001b[32m━━━━━━━━━━━━━━━━━━━━\u001b[0m\u001b[37m\u001b[0m \u001b[1m40s\u001b[0m 217ms/step - accuracy: 0.9644 - loss: 0.3071 - val_accuracy: 0.9580 - val_loss: 0.3096 - learning_rate: 4.0000e-05\n",
            "Epoch 29/30\n",
            "\u001b[1m124/124\u001b[0m \u001b[32m━━━━━━━━━━━━━━━━━━━━\u001b[0m\u001b[37m\u001b[0m \u001b[1m27s\u001b[0m 219ms/step - accuracy: 0.9699 - loss: 0.2837 - val_accuracy: 0.9770 - val_loss: 0.2594 - learning_rate: 8.0000e-06\n",
            "Epoch 30/30\n",
            "\u001b[1m124/124\u001b[0m \u001b[32m━━━━━━━━━━━━━━━━━━━━\u001b[0m\u001b[37m\u001b[0m \u001b[1m27s\u001b[0m 218ms/step - accuracy: 0.9697 - loss: 0.2851 - val_accuracy: 0.9787 - val_loss: 0.2587 - learning_rate: 8.0000e-06\n"
          ]
        },
        {
          "output_type": "stream",
          "name": "stderr",
          "text": [
            "WARNING:absl:You are saving your model as an HDF5 file via `model.save()` or `keras.saving.save_model(model)`. This file format is considered legacy. We recommend using instead the native Keras format, e.g. `model.save('my_model.keras')` or `keras.saving.save_model(model, 'my_model.keras')`. \n",
            "WARNING:absl:Compiled the loaded model, but the compiled metrics have yet to be built. `model.compile_metrics` will be empty until you train or evaluate the model.\n"
          ]
        }
      ],
      "source": [
        "history = model.fit(\n",
        "    train_generator,\n",
        "    epochs=30,\n",
        "    validation_data=validation_generator,\n",
        "    class_weight=class_weight,\n",
        "    callbacks=[early_stopping, reduce_lr]\n",
        ")\n",
        "# ✅ Save the Model\n",
        "model.save(\"model.h5\")\n",
        "\n",
        "# ✅ Load the Model (if needed)\n",
        "from tensorflow.keras.models import load_model\n",
        "loaded_model = load_model(\"model.h5\")"
      ]
    },
    {
      "cell_type": "markdown",
      "metadata": {
        "id": "xX5anveubfAx"
      },
      "source": [
        "# Learning Curves"
      ]
    },
    {
      "cell_type": "code",
      "execution_count": null,
      "metadata": {
        "colab": {
          "base_uri": "https://localhost:8080/",
          "height": 487
        },
        "id": "IW7rAxy_T5yP",
        "outputId": "31fff125-b401-4df8-c0a1-e5d3e75b5868"
      },
      "outputs": [
        {
          "output_type": "display_data",
          "data": {
            "text/plain": [
              "<Figure size 1200x500 with 2 Axes>"
            ],
            "image/png": "[encoded data removed]"
          },
          "metadata": {}
        }
      ],
      "source": [
        "def plot_learning_curves(history):\n",
        "    plt.figure(figsize=(12,5))\n",
        "    plt.subplot(1,2,1)\n",
        "    plt.plot(history.history['loss'], label='Training Loss')\n",
        "    plt.plot(history.history['val_loss'], label='Validation Loss')\n",
        "    plt.xlabel('Epochs')\n",
        "    plt.ylabel('Loss')\n",
        "    plt.title('Training & Validation Loss')\n",
        "    plt.legend()\n",
        "\n",
        "    plt.subplot(1,2,2)\n",
        "    plt.plot(history.history['accuracy'], label='Training Accuracy')\n",
        "    plt.plot(history.history['val_accuracy'], label='Validation Accuracy')\n",
        "    plt.xlabel('Epochs')\n",
        "    plt.ylabel('Accuracy')\n",
        "    plt.title('Training & Validation Accuracy')\n",
        "    plt.legend()\n",
        "\n",
        "    plt.show()\n",
        "\n",
        "plot_learning_curves(history)"
      ]
    },
    {
      "cell_type": "code",
      "execution_count": null,
      "metadata": {
        "colab": {
          "base_uri": "https://localhost:8080/"
        },
        "id": "Od43d9c_T9_n",
        "outputId": "74481c3f-3381-448c-c55c-d94102d0141b"
      },
      "outputs": [
        {
          "output_type": "stream",
          "name": "stdout",
          "text": [
            "\u001b[1m1/1\u001b[0m \u001b[32m━━━━━━━━━━━━━━━━━━━━\u001b[0m\u001b[37m\u001b[0m \u001b[1m0s\u001b[0m 452ms/step\n",
            "\u001b[1m1/1\u001b[0m \u001b[32m━━━━━━━━━━━━━━━━━━━━\u001b[0m\u001b[37m\u001b[0m \u001b[1m0s\u001b[0m 36ms/step\n",
            "\u001b[1m1/1\u001b[0m \u001b[32m━━━━━━━━━━━━━━━━━━━━\u001b[0m\u001b[37m\u001b[0m \u001b[1m0s\u001b[0m 31ms/step\n",
            "\u001b[1m1/1\u001b[0m \u001b[32m━━━━━━━━━━━━━━━━━━━━\u001b[0m\u001b[37m\u001b[0m \u001b[1m0s\u001b[0m 31ms/step\n",
            "\u001b[1m1/1\u001b[0m \u001b[32m━━━━━━━━━━━━━━━━━━━━\u001b[0m\u001b[37m\u001b[0m \u001b[1m0s\u001b[0m 39ms/step\n",
            "\u001b[1m1/1\u001b[0m \u001b[32m━━━━━━━━━━━━━━━━━━━━\u001b[0m\u001b[37m\u001b[0m \u001b[1m0s\u001b[0m 89ms/step\n",
            "\u001b[1m1/1\u001b[0m \u001b[32m━━━━━━━━━━━━━━━━━━━━\u001b[0m\u001b[37m\u001b[0m \u001b[1m0s\u001b[0m 34ms/step\n",
            "\u001b[1m1/1\u001b[0m \u001b[32m━━━━━━━━━━━━━━━━━━━━\u001b[0m\u001b[37m\u001b[0m \u001b[1m0s\u001b[0m 31ms/step\n",
            "\u001b[1m1/1\u001b[0m \u001b[32m━━━━━━━━━━━━━━━━━━━━\u001b[0m\u001b[37m\u001b[0m \u001b[1m0s\u001b[0m 32ms/step\n",
            "\u001b[1m1/1\u001b[0m \u001b[32m━━━━━━━━━━━━━━━━━━━━\u001b[0m\u001b[37m\u001b[0m \u001b[1m0s\u001b[0m 32ms/step\n",
            "\u001b[1m1/1\u001b[0m \u001b[32m━━━━━━━━━━━━━━━━━━━━\u001b[0m\u001b[37m\u001b[0m \u001b[1m0s\u001b[0m 32ms/step\n",
            "\u001b[1m1/1\u001b[0m \u001b[32m━━━━━━━━━━━━━━━━━━━━\u001b[0m\u001b[37m\u001b[0m \u001b[1m0s\u001b[0m 44ms/step\n",
            "\u001b[1m1/1\u001b[0m \u001b[32m━━━━━━━━━━━━━━━━━━━━\u001b[0m\u001b[37m\u001b[0m \u001b[1m0s\u001b[0m 48ms/step\n",
            "\u001b[1m1/1\u001b[0m \u001b[32m━━━━━━━━━━━━━━━━━━━━\u001b[0m\u001b[37m\u001b[0m \u001b[1m0s\u001b[0m 49ms/step\n",
            "\u001b[1m1/1\u001b[0m \u001b[32m━━━━━━━━━━━━━━━━━━━━\u001b[0m\u001b[37m\u001b[0m \u001b[1m0s\u001b[0m 44ms/step\n",
            "\u001b[1m1/1\u001b[0m \u001b[32m━━━━━━━━━━━━━━━━━━━━\u001b[0m\u001b[37m\u001b[0m \u001b[1m0s\u001b[0m 48ms/step\n",
            "\u001b[1m1/1\u001b[0m \u001b[32m━━━━━━━━━━━━━━━━━━━━\u001b[0m\u001b[37m\u001b[0m \u001b[1m0s\u001b[0m 65ms/step\n",
            "\u001b[1m1/1\u001b[0m \u001b[32m━━━━━━━━━━━━━━━━━━━━\u001b[0m\u001b[37m\u001b[0m \u001b[1m0s\u001b[0m 45ms/step\n",
            "\u001b[1m1/1\u001b[0m \u001b[32m━━━━━━━━━━━━━━━━━━━━\u001b[0m\u001b[37m\u001b[0m \u001b[1m0s\u001b[0m 44ms/step\n",
            "\u001b[1m1/1\u001b[0m \u001b[32m━━━━━━━━━━━━━━━━━━━━\u001b[0m\u001b[37m\u001b[0m \u001b[1m0s\u001b[0m 47ms/step\n",
            "\u001b[1m1/1\u001b[0m \u001b[32m━━━━━━━━━━━━━━━━━━━━\u001b[0m\u001b[37m\u001b[0m \u001b[1m0s\u001b[0m 46ms/step\n",
            "\u001b[1m1/1\u001b[0m \u001b[32m━━━━━━━━━━━━━━━━━━━━\u001b[0m\u001b[37m\u001b[0m \u001b[1m0s\u001b[0m 47ms/step\n",
            "\u001b[1m1/1\u001b[0m \u001b[32m━━━━━━━━━━━━━━━━━━━━\u001b[0m\u001b[37m\u001b[0m \u001b[1m0s\u001b[0m 33ms/step\n",
            "\u001b[1m1/1\u001b[0m \u001b[32m━━━━━━━━━━━━━━━━━━━━\u001b[0m\u001b[37m\u001b[0m \u001b[1m0s\u001b[0m 34ms/step\n",
            "\u001b[1m1/1\u001b[0m \u001b[32m━━━━━━━━━━━━━━━━━━━━\u001b[0m\u001b[37m\u001b[0m \u001b[1m0s\u001b[0m 32ms/step\n",
            "\u001b[1m1/1\u001b[0m \u001b[32m━━━━━━━━━━━━━━━━━━━━\u001b[0m\u001b[37m\u001b[0m \u001b[1m0s\u001b[0m 31ms/step\n",
            "\u001b[1m1/1\u001b[0m \u001b[32m━━━━━━━━━━━━━━━━━━━━\u001b[0m\u001b[37m\u001b[0m \u001b[1m0s\u001b[0m 31ms/step\n",
            "\u001b[1m1/1\u001b[0m \u001b[32m━━━━━━━━━━━━━━━━━━━━\u001b[0m\u001b[37m\u001b[0m \u001b[1m0s\u001b[0m 36ms/step\n",
            "\u001b[1m1/1\u001b[0m \u001b[32m━━━━━━━━━━━━━━━━━━━━\u001b[0m\u001b[37m\u001b[0m \u001b[1m0s\u001b[0m 33ms/step\n",
            "\u001b[1m1/1\u001b[0m \u001b[32m━━━━━━━━━━━━━━━━━━━━\u001b[0m\u001b[37m\u001b[0m \u001b[1m0s\u001b[0m 41ms/step\n",
            "\u001b[1m1/1\u001b[0m \u001b[32m━━━━━━━━━━━━━━━━━━━━\u001b[0m\u001b[37m\u001b[0m \u001b[1m0s\u001b[0m 31ms/step\n",
            "\u001b[1m1/1\u001b[0m \u001b[32m━━━━━━━━━━━━━━━━━━━━\u001b[0m\u001b[37m\u001b[0m \u001b[1m0s\u001b[0m 33ms/step\n",
            "\u001b[1m1/1\u001b[0m \u001b[32m━━━━━━━━━━━━━━━━━━━━\u001b[0m\u001b[37m\u001b[0m \u001b[1m0s\u001b[0m 31ms/step\n",
            "\u001b[1m1/1\u001b[0m \u001b[32m━━━━━━━━━━━━━━━━━━━━\u001b[0m\u001b[37m\u001b[0m \u001b[1m0s\u001b[0m 34ms/step\n",
            "\u001b[1m1/1\u001b[0m \u001b[32m━━━━━━━━━━━━━━━━━━━━\u001b[0m\u001b[37m\u001b[0m \u001b[1m0s\u001b[0m 33ms/step\n",
            "\u001b[1m1/1\u001b[0m \u001b[32m━━━━━━━━━━━━━━━━━━━━\u001b[0m\u001b[37m\u001b[0m \u001b[1m0s\u001b[0m 33ms/step\n",
            "\u001b[1m1/1\u001b[0m \u001b[32m━━━━━━━━━━━━━━━━━━━━\u001b[0m\u001b[37m\u001b[0m \u001b[1m0s\u001b[0m 31ms/step\n",
            "\u001b[1m1/1\u001b[0m \u001b[32m━━━━━━━━━━━━━━━━━━━━\u001b[0m\u001b[37m\u001b[0m \u001b[1m0s\u001b[0m 31ms/step\n",
            "\u001b[1m1/1\u001b[0m \u001b[32m━━━━━━━━━━━━━━━━━━━━\u001b[0m\u001b[37m\u001b[0m \u001b[1m0s\u001b[0m 36ms/step\n",
            "\u001b[1m1/1\u001b[0m \u001b[32m━━━━━━━━━━━━━━━━━━━━\u001b[0m\u001b[37m\u001b[0m \u001b[1m0s\u001b[0m 32ms/step\n",
            "\u001b[1m1/1\u001b[0m \u001b[32m━━━━━━━━━━━━━━━━━━━━\u001b[0m\u001b[37m\u001b[0m \u001b[1m0s\u001b[0m 32ms/step\n",
            "\u001b[1m1/1\u001b[0m \u001b[32m━━━━━━━━━━━━━━━━━━━━\u001b[0m\u001b[37m\u001b[0m \u001b[1m0s\u001b[0m 32ms/step\n",
            "\u001b[1m1/1\u001b[0m \u001b[32m━━━━━━━━━━━━━━━━━━━━\u001b[0m\u001b[37m\u001b[0m \u001b[1m0s\u001b[0m 34ms/step\n",
            "\u001b[1m1/1\u001b[0m \u001b[32m━━━━━━━━━━━━━━━━━━━━\u001b[0m\u001b[37m\u001b[0m \u001b[1m0s\u001b[0m 31ms/step\n",
            "\u001b[1m1/1\u001b[0m \u001b[32m━━━━━━━━━━━━━━━━━━━━\u001b[0m\u001b[37m\u001b[0m \u001b[1m0s\u001b[0m 31ms/step\n",
            "\u001b[1m1/1\u001b[0m \u001b[32m━━━━━━━━━━━━━━━━━━━━\u001b[0m\u001b[37m\u001b[0m \u001b[1m0s\u001b[0m 32ms/step\n",
            "\u001b[1m1/1\u001b[0m \u001b[32m━━━━━━━━━━━━━━━━━━━━\u001b[0m\u001b[37m\u001b[0m \u001b[1m0s\u001b[0m 35ms/step\n",
            "\u001b[1m1/1\u001b[0m \u001b[32m━━━━━━━━━━━━━━━━━━━━\u001b[0m\u001b[37m\u001b[0m \u001b[1m0s\u001b[0m 34ms/step\n",
            "\u001b[1m1/1\u001b[0m \u001b[32m━━━━━━━━━━━━━━━━━━━━\u001b[0m\u001b[37m\u001b[0m \u001b[1m0s\u001b[0m 33ms/step\n",
            "\u001b[1m1/1\u001b[0m \u001b[32m━━━━━━━━━━━━━━━━━━━━\u001b[0m\u001b[37m\u001b[0m \u001b[1m0s\u001b[0m 31ms/step\n",
            "\u001b[1m1/1\u001b[0m \u001b[32m━━━━━━━━━━━━━━━━━━━━\u001b[0m\u001b[37m\u001b[0m \u001b[1m0s\u001b[0m 33ms/step\n",
            "\u001b[1m1/1\u001b[0m \u001b[32m━━━━━━━━━━━━━━━━━━━━\u001b[0m\u001b[37m\u001b[0m \u001b[1m0s\u001b[0m 39ms/step\n",
            "\u001b[1m1/1\u001b[0m \u001b[32m━━━━━━━━━━━━━━━━━━━━\u001b[0m\u001b[37m\u001b[0m \u001b[1m0s\u001b[0m 475ms/step\n"
          ]
        }
      ],
      "source": [
        "y_true, y_pred = [], []\n",
        "\n",
        "for i in range(len(validation_generator)):\n",
        "    x_batch, y_batch = validation_generator[i]\n",
        "    preds = model.predict(x_batch)\n",
        "    y_pred.extend(np.argmax(preds, axis=1))\n",
        "    y_true.extend(np.argmax(y_batch, axis=1))"
      ]
    },
    {
      "cell_type": "markdown",
      "metadata": {
        "id": "6fHqU2bubOcV"
      },
      "source": [
        "# Precision Recall F1-Score"
      ]
    },
    {
      "cell_type": "code",
      "execution_count": null,
      "metadata": {
        "colab": {
          "base_uri": "https://localhost:8080/"
        },
        "id": "raCo7UNgUA5H",
        "outputId": "5370be7c-f753-4027-b3ff-320a8aa786c0"
      },
      "outputs": [
        {
          "output_type": "stream",
          "name": "stdout",
          "text": [
            "              precision    recall  f1-score   support\n",
            "\n",
            "      cloudy       0.97      0.98      0.97       453\n",
            "      desert       0.97      0.97      0.97       339\n",
            "  green_area       0.99      0.98      0.98       450\n",
            "       water       0.98      0.98      0.98       450\n",
            "\n",
            "    accuracy                           0.98      1692\n",
            "   macro avg       0.98      0.98      0.98      1692\n",
            "weighted avg       0.98      0.98      0.98      1692\n",
            "\n"
          ]
        }
      ],
      "source": [
        "print(classification_report(y_true, y_pred, target_names=list(train_generator.class_indices.keys())))"
      ]
    },
    {
      "cell_type": "markdown",
      "metadata": {
        "id": "Op534A2nbUfG"
      },
      "source": [
        "# Confusion Matrix"
      ]
    },
    {
      "cell_type": "code",
      "execution_count": null,
      "metadata": {
        "id": "Vv1IPjFOUGPI",
        "colab": {
          "base_uri": "https://localhost:8080/",
          "height": 564
        },
        "outputId": "444d39c5-cd9b-4370-8bee-83ba5c528830"
      },
      "outputs": [
        {
          "output_type": "display_data",
          "data": {
            "text/plain": [
              "<Figure size 800x600 with 2 Axes>"
            ],
            "image/png": "[encoded data removed]"
          },
          "metadata": {}
        }
      ],
      "source": [
        "cm = confusion_matrix(y_true, y_pred)\n",
        "plt.figure(figsize=(8,6))\n",
        "sns.heatmap(cm, annot=True, fmt='d', cmap='Blues', xticklabels=train_generator.class_indices.keys(), yticklabels=train_generator.class_indices.keys())\n",
        "plt.xlabel('Predicted')\n",
        "plt.ylabel('Actual')\n",
        "plt.title('Confusion Matrix')\n",
        "plt.show()"
      ]
    },
    {
      "cell_type": "markdown",
      "metadata": {
        "id": "BeTJXsXcwNG4"
      },
      "source": [
        "# Z - Test"
      ]
    },
    {
      "cell_type": "code",
      "execution_count": null,
      "metadata": {
        "id": "TvUWgiU1pk_H",
        "colab": {
          "base_uri": "https://localhost:8080/"
        },
        "outputId": "597302e3-4344-44fd-8de4-11c8046c3f3a"
      },
      "outputs": [
        {
          "output_type": "stream",
          "name": "stdout",
          "text": [
            "Z-score: -1.7212, P-value: 0.0852\n",
            "T-test Statistic: 2.0701, P-value: 0.0461\n",
            "ANOVA F-statistic: 4.2892, P-value: 0.0428\n"
          ]
        }
      ],
      "source": [
        "from scipy.stats import norm\n",
        "from scipy.stats import norm, ttest_ind  # Import ttest_ind along with norm\n",
        "from scipy.stats import f_oneway # Import the norm object from scipy.stats\n",
        "\n",
        "from scipy.stats import norm\n",
        "\n",
        "def z_test(p1, p2, n1, n2):\n",
        "    if n1 == 0 or n2 == 0:\n",
        "        return None, None  # Avoid division by zero\n",
        "    p_combined = (p1 * n1 + p2 * n2) / (n1 + n2)\n",
        "    standard_error = np.sqrt(max(p_combined * (1 - p_combined) * (1/n1 + 1/n2), 1e-10))  # Avoid zero error\n",
        "    z_score = (p1 - p2) / standard_error\n",
        "    p_value = max(2 * (1 - norm.cdf(abs(z_score))), 1e-10)  # Ensure p-value isn't 0\n",
        "    return z_score, p_value\n",
        "\n",
        "train_samples = train_generator.samples\n",
        "test_samples = validation_generator.samples\n",
        "train_accuracy = history.history['accuracy'][-1]\n",
        "test_accuracy = history.history['val_accuracy'][-1]\n",
        "z_score, p_value = z_test(train_accuracy, test_accuracy, train_samples, test_samples)\n",
        "print(f\"Z-score: {z_score:.4f}, P-value: {p_value:.4f}\")\n",
        "\n",
        "t_stat, t_p_value = ttest_ind(np.array(history.history['accuracy']),\n",
        "                              np.array(history.history['val_accuracy']), equal_var=False)\n",
        "print(f\"T-test Statistic: {t_stat:.4f}, P-value: {t_p_value:.4f}\")\n",
        "\n",
        "train_acc_noisy = np.array(history.history['accuracy']) + np.random.normal(0, 0.0001, len(history.history['accuracy']))\n",
        "val_acc_noisy = np.array(history.history['val_accuracy']) + np.random.normal(0, 0.0001, len(history.history['val_accuracy']))\n",
        "anova_stat, anova_p_value = f_oneway(train_acc_noisy, val_acc_noisy)\n",
        "print(f\"ANOVA F-statistic: {anova_stat:.4f}, P-value: {anova_p_value:.4f}\")\n"
      ]
    }
  ],
  "metadata": {
    "accelerator": "GPU",
    "colab": {
      "gpuType": "T4",
      "provenance": []
    },
    "kernelspec": {
      "display_name": "Python 3",
      "name": "python3"
    },
    "language_info": {
      "name": "python"
    }
  },
  "nbformat": 4,
  "nbformat_minor": 0
}